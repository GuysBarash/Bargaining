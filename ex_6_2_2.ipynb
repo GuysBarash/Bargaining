{
  "nbformat": 4,
  "nbformat_minor": 0,
  "metadata": {
    "kernelspec": {
      "display_name": "Python 3",
      "language": "python",
      "name": "python3"
    },
    "language_info": {
      "codemirror_mode": {
        "name": "ipython",
        "version": 2
      },
      "file_extension": ".py",
      "mimetype": "text/x-python",
      "name": "python",
      "nbconvert_exporter": "python",
      "pygments_lexer": "ipython2",
      "version": "2.7.6"
    },
    "colab": {
      "name": "ex_6.2.2.ipynb",
      "provenance": [],
      "collapsed_sections": [],
      "include_colab_link": true
    }
  },
  "cells": [
    {
      "cell_type": "markdown",
      "metadata": {
        "id": "view-in-github",
        "colab_type": "text"
      },
      "source": [
        "<a href=\"https://colab.research.google.com/github/GuysBarash/Bargaining/blob/main/ex_6_2_2.ipynb\" target=\"_parent\"><img src=\"https://colab.research.google.com/assets/colab-badge.svg\" alt=\"Open In Colab\"/></a>"
      ]
    },
    {
      "cell_type": "code",
      "metadata": {
        "collapsed": true,
        "id": "Z2Vr50nwsSAU"
      },
      "source": [
        "%matplotlib inline\n",
        "\n",
        "import numpy as np\n",
        "import matplotlib.pyplot as plt"
      ],
      "execution_count": 45,
      "outputs": []
    },
    {
      "cell_type": "markdown",
      "metadata": {
        "id": "zDmXjtss7dzq"
      },
      "source": [
        "# 5.2.2"
      ]
    },
    {
      "cell_type": "markdown",
      "metadata": {
        "id": "r22VTxaN7fW5"
      },
      "source": [
        "Code functions"
      ]
    },
    {
      "cell_type": "code",
      "metadata": {
        "pycharm": {
          "name": "#%%\n"
        },
        "id": "GBQma7iNsSAa"
      },
      "source": [
        "def dice(n=1):\n",
        "    # A fair dice. n is the number of throws\n",
        "    return np.random.choice([1, 2, 3, 4, 5, 6], n)\n",
        "\n",
        "\n",
        "def is_even(n=1):\n",
        "    # return 1 if it gets an even number in a fair dice toss, 0 otherwise\n",
        "    # n is the number of throws\n",
        "    return 1 - (dice(n) % 2)\n",
        "\n",
        "\n",
        "def is_odd(n=1):\n",
        "    # return 1 if it gets an even number in a fair dice toss, 0 otherwise\n",
        "    # n is the number of throws\n",
        "    return (dice(n) % 2)"
      ],
      "execution_count": 46,
      "outputs": []
    },
    {
      "cell_type": "code",
      "source": [
        "def F(x,S):\n",
        "  return np.mean(np.array(S <= x,dtype=int))\n",
        "\n",
        "def F0(S):\n",
        "  return F(0,S)\n",
        "\n",
        "def F1(S):\n",
        "  return F(1,S)"
      ],
      "metadata": {
        "id": "pRlZkcHjS-KP"
      },
      "execution_count": 47,
      "outputs": []
    },
    {
      "cell_type": "code",
      "metadata": {
        "pycharm": {
          "name": "#%%\n"
        },
        "id": "MEnpTU-GsSAb"
      },
      "source": [
        "sample_size = 1000"
      ],
      "execution_count": 48,
      "outputs": []
    },
    {
      "cell_type": "markdown",
      "metadata": {
        "id": "calFvdvd7hZ6"
      },
      "source": [
        "Estimate even/odd balance over N tosses\n",
        "with N in {1,...,500}"
      ]
    },
    {
      "cell_type": "code",
      "metadata": {
        "pycharm": {
          "name": "#%%\n"
        },
        "id": "tJM_orAWsSAc"
      },
      "source": [
        "vector_length = list(range(1, sample_size))\n",
        "p_hats = [F0(is_odd(nt)) for nt in vector_length]"
      ],
      "execution_count": 49,
      "outputs": []
    },
    {
      "cell_type": "markdown",
      "metadata": {
        "id": "nGbcXAu57jVa"
      },
      "source": [
        "Plot results"
      ]
    },
    {
      "cell_type": "code",
      "metadata": {
        "pycharm": {
          "name": "#%%\n"
        },
        "colab": {
          "base_uri": "https://localhost:8080/",
          "height": 294
        },
        "id": "XmLPMHHnsSAe",
        "outputId": "8480fabf-159c-47b3-b757-061067d60b10"
      },
      "source": [
        "plt.plot(vector_length, p_hats)\n",
        "plt.ylim(0, 1)\n",
        "plt.xlabel('Dice toss repeats')\n",
        "plt.ylabel('Mean value of \"is odd on dice\"')\n",
        "plt.axhline(y=0.5, color='r', linestyle='-')\n",
        "plt.title('Fe(0)')\n",
        "plt.show()"
      ],
      "execution_count": 50,
      "outputs": [
        {
          "output_type": "display_data",
          "data": {
            "image/png": "[encoded data removed]",
            "text/plain": [
              "<Figure size 432x288 with 1 Axes>"
            ]
          },
          "metadata": {
            "needs_background": "light"
          }
        }
      ]
    },
    {
      "cell_type": "markdown",
      "metadata": {
        "id": "L90APafS7lOb"
      },
      "source": [
        "Now for Fe(1) - Fe(0)"
      ]
    },
    {
      "cell_type": "code",
      "metadata": {
        "pycharm": {
          "name": "#%%\n"
        },
        "id": "mgkaVJhhsSAg"
      },
      "source": [
        "vector_length = list(range(1, sample_size))\n",
        "p_hats = [F1(is_odd(nt)) - F0(is_odd(nt)) for nt in vector_length]"
      ],
      "execution_count": 51,
      "outputs": []
    },
    {
      "cell_type": "code",
      "metadata": {
        "pycharm": {
          "name": "#%%\n"
        },
        "colab": {
          "base_uri": "https://localhost:8080/",
          "height": 294
        },
        "id": "9IhZ9uclsSAh",
        "outputId": "e9a3ce8a-0a89-48d2-d3c0-dbdeccadd0d5"
      },
      "source": [
        "plt.plot(vector_length, p_hats)\n",
        "plt.ylim(0, 1)\n",
        "plt.xlabel('Dice toss repeats')\n",
        "plt.ylabel('F(1) - F(0)')\n",
        "plt.axhline(y=0.5, color='r', linestyle='-')\n",
        "plt.title('Fe(1) - Fe(0)')\n",
        "plt.show()"
      ],
      "execution_count": 53,
      "outputs": [
        {
          "output_type": "display_data",
          "data": {
            "image/png": "[encoded data removed]",
            "text/plain": [
              "<Figure size 432x288 with 1 Axes>"
            ]
          },
          "metadata": {
            "needs_background": "light"
          }
        }
      ]
    }
  ]
}